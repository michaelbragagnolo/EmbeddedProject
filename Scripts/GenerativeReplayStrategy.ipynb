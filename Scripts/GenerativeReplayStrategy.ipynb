{
 "cells": [
  {
   "cell_type": "markdown",
   "id": "6f4e8fb1",
   "metadata": {},
   "source": [
    "***\n",
    "## DEEP GENERATIVE REPLAY\n",
    "\n",
    "Experiment implementing **Deep Generative Replay** learning strategy:\n",
    "\n",
    "Dual model architecture consisting of a deep generative model (**generator**) and a task solving model (**solver**). Specifically, it uses two generative models: one which acts as a memory, capable of generating all past tasks, and one that learns to generate data from all past tasks and the current task.\n",
    "\n",
    "The method is hereby tested in a sequential learning setting involving MNIST classification tasks.\n",
    "***"
   ]
  },
  {
   "cell_type": "code",
   "execution_count": 1,
   "id": "28683e7e",
   "metadata": {},
   "outputs": [],
   "source": [
    "# --- LIBRARIES AND UTILS ---\n",
    "import torch\n",
    "from torch.nn import Module, CrossEntropyLoss\n",
    "from torch.optim import Optimizer, SGD\n",
    "\n",
    "# Avalanche library from ContinualAI\n",
    "import avalanche\n",
    "from avalanche.training.plugins import(GenerativeReplayPlugin)"
   ]
  },
  {
   "cell_type": "code",
   "execution_count": 1,
   "id": "565ed6c4",
   "metadata": {},
   "outputs": [],
   "source": [
    "# ... strategy implementation"
   ]
  }
 ],
 "metadata": {
  "kernelspec": {
   "display_name": "Python 3",
   "language": "python",
   "name": "python3"
  },
  "language_info": {
   "codemirror_mode": {
    "name": "ipython",
    "version": 3
   },
   "file_extension": ".py",
   "mimetype": "text/x-python",
   "name": "python",
   "nbconvert_exporter": "python",
   "pygments_lexer": "ipython3",
   "version": "3.6.13"
  }
 },
 "nbformat": 4,
 "nbformat_minor": 5
}
