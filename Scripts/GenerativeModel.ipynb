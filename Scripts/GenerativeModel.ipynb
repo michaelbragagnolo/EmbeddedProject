{
 "cells": [
  {
   "cell_type": "markdown",
   "id": "6047d3f2",
   "metadata": {},
   "source": [
    "***\n",
    "## Generative Model - VAE\n",
    "\n",
    "Experiment implementing a **Variational AutoEncoder** as generative model of data needed for the Generative Replay technique.\n",
    "\n",
    "The Variational AutoEncoder (VAE) is an architecture composed of an encoder, a decoder and a loss function, that is trained to minimize the reconstruction error between the encoded-decoded data and the initial data.\n",
    "\n",
    "*Code is based in part on the work of TLESORT, https://github.com/TLESORT/Generative_Continual_Learning)*\n",
    "***"
   ]
  },
  {
   "cell_type": "code",
   "execution_count": null,
   "id": "0941b08c",
   "metadata": {},
   "outputs": [],
   "source": [
    "# --- LIBRARIES AND UTILS ---\n",
    "import torch\n",
    "import torch.nn as nn\n",
    "\n",
    "import avalanche\n",
    "from avalanche.models.utils import MLP"
   ]
  },
  {
   "cell_type": "markdown",
   "id": "6d449315",
   "metadata": {},
   "source": [
    "### Encoder\n",
    "Encoder part of the VAE, it is a network that takes in an input and generates a much smaller, dense representation (encoding) specifically useful for reconstructing its own input by mean of a decoder.\n",
    "\n",
    "#### Input parameters:\n",
    " - shape = shape of the network input (1, height, width)\n",
    " - latent_dim = dimension of the last hidden layer"
   ]
  },
  {
   "cell_type": "code",
   "execution_count": null,
   "id": "51d512a2",
   "metadata": {},
   "outputs": [],
   "source": [
    "class VAE_encoder(nn.Module):\n",
    "    \n",
    "    def __init__(self, shape, latent_dim=128):\n",
    "        super(VAE_encoder, self).__init__()\n",
    "        flattened_size = torch.Size(shape).numel()\n",
    "        self.encode = nn.Sequential(\n",
    "            Flatten(),\n",
    "            nn.Linear(in_features=flattened_size, out_features=400),\n",
    "            nn.BatchNorm1d(400),\n",
    "            nn.LeakyReLU(),\n",
    "            MLP([400, latent_dim]),\n",
    "        )\n",
    "\n",
    "    def forward(self, x, y=None):\n",
    "        x = self.encode(x)\n",
    "        return x"
   ]
  },
  {
   "cell_type": "code",
   "execution_count": null,
   "id": "24f2875b",
   "metadata": {},
   "outputs": [],
   "source": [
    "# ..."
   ]
  }
 ],
 "metadata": {
  "kernelspec": {
   "display_name": "Python 3",
   "language": "python",
   "name": "python3"
  },
  "language_info": {
   "codemirror_mode": {
    "name": "ipython",
    "version": 3
   },
   "file_extension": ".py",
   "mimetype": "text/x-python",
   "name": "python",
   "nbconvert_exporter": "python",
   "pygments_lexer": "ipython3",
   "version": "3.6.13"
  }
 },
 "nbformat": 4,
 "nbformat_minor": 5
}
